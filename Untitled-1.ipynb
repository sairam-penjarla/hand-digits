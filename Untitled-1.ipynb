{
 "cells": [
  {
   "cell_type": "code",
   "execution_count": null,
   "metadata": {},
   "outputs": [],
   "source": [
    "# STEP 1: Import the necessary modules.\n",
    "import cv2\n",
    "import math\n",
    "import numpy as np\n",
    "import mediapipe as mp\n",
    "from mediapipe import solutions\n",
    "from mediapipe.tasks import python\n",
    "from mediapipe.tasks.python import vision\n",
    "from mediapipe.framework.formats import landmark_pb2"
   ]
  },
  {
   "cell_type": "code",
   "execution_count": null,
   "metadata": {},
   "outputs": [],
   "source": [
    "# STEP 2: Create an HandLandmarker object.\n",
    "base_options = python.BaseOptions(model_asset_path='hand_landmarker.task')\n",
    "options = vision.HandLandmarkerOptions(base_options=base_options,\n",
    "                                       num_hands=2)\n",
    "detector = vision.HandLandmarker.create_from_options(options)\n",
    "\n",
    "\n",
    "MARGIN = 10  # pixels\n",
    "FONT_SIZE = 1\n",
    "FONT_THICKNESS = 1\n",
    "HANDEDNESS_TEXT_COLOR = (88, 205, 54) # vibrant green\n",
    "\n",
    "THUMB_FINGER = 4\n",
    "INDEX_FINGER = 8\n",
    "MIDDLE_FINGER = 12\n",
    "RING_FINGER = 16\n",
    "PINKY_FINGER = 20\n",
    "FINGER_TIPS = [THUMB_FINGER, INDEX_FINGER, MIDDLE_FINGER, RING_FINGER, PINKY_FINGER]\n",
    "\n",
    "ACTIVE_FINGER = INDEX_FINGER\n",
    "\n",
    "Debug_mode = False\n",
    "\n"
   ]
  },
  {
   "cell_type": "code",
   "execution_count": null,
   "metadata": {},
   "outputs": [],
   "source": [
    "def get_finger_details(finger_id):\n",
    "    if finger_id == THUMB_FINGER:\n",
    "        return \"0\", (153, 204, 255)    # Light blue\n",
    "    elif finger_id == INDEX_FINGER:\n",
    "        return \"1\", (153, 255, 153)    # Light green\n",
    "    elif finger_id == MIDDLE_FINGER:\n",
    "        return \"2\", (255, 153, 153)    # Light red\n",
    "    elif finger_id == RING_FINGER:\n",
    "        return \"3\", (255, 215, 0)    # Light orange\n",
    "    elif finger_id == PINKY_FINGER:\n",
    "        return \"4\", (219, 70, 90)    # Light pink\n",
    "    else:\n",
    "        return \"-1\"   # error\n"
   ]
  },
  {
   "cell_type": "code",
   "execution_count": null,
   "metadata": {},
   "outputs": [],
   "source": [
    "def put_text_between_diagonal_points(image, point1, point2):\n",
    "\n",
    "    distance = math.sqrt((point2[0] - point1[0]) ** 2 + (point2[1] - point1[1]) ** 2)\n",
    "\n",
    "    text, finger_colour = get_finger_details(point2[2])\n",
    "    \n",
    "    midpoint_x = int((point1[0] + point2[0]) / 2) - (int(distance/3))\n",
    "    midpoint_y = int((point1[1] + point2[1]) / 2) + (int(distance/3))\n",
    "    if Debug_mode:\n",
    "        # draw a line between the two points\n",
    "        image = cv2.line(image, (point1[0], point1[1]), (point2[0], point2[1]), (255,255,255), 3)\n",
    "        text_size = 1\n",
    "    else:\n",
    "        text_size = int(distance / 30)\n",
    "        image = cv2.circle(image, (point1[0], point1[1]), 10, finger_colour, cv2.FILLED)\n",
    "        image = cv2.circle(image, (point2[0], point2[1]), 10, finger_colour, cv2.FILLED)\n",
    "    image = cv2.putText(image, text, (midpoint_x, midpoint_y), cv2.FONT_HERSHEY_TRIPLEX, text_size, finger_colour, 20)\n",
    "    return image\n"
   ]
  },
  {
   "cell_type": "code",
   "execution_count": null,
   "metadata": {},
   "outputs": [],
   "source": [
    "def get_active_finger(cordinates_list, ACTIVE_FINGER):\n",
    "    point1 = cordinates_list[THUMB_FINGER]\n",
    "    for finger_tip in FINGER_TIPS[1:]:\n",
    "        point2 = cordinates_list[finger_tip]\n",
    "        distance = math.sqrt((point2[0] - point1[0]) ** 2 + (point2[1] - point1[1]) ** 2)\n",
    "        if distance < 100:\n",
    "            ACTIVE_FINGER = finger_tip\n",
    "            break\n",
    "    return ACTIVE_FINGER"
   ]
  },
  {
   "cell_type": "code",
   "execution_count": null,
   "metadata": {},
   "outputs": [],
   "source": [
    "def draw_landmarks_on_image(rgb_image, detection_result):\n",
    "  global ACTIVE_FINGER\n",
    "  rgb_image = cv2.cvtColor(rgb_image, cv2.COLOR_RGB2BGR)\n",
    "  annotated_image = np.copy(rgb_image)\n",
    "  height, width, channels = annotated_image.shape\n",
    "  hand_landmarks_list = detection_result.hand_landmarks\n",
    "  # Loop through the detected hands to visualize.\n",
    "  for hand_landmarks in hand_landmarks_list:\n",
    "    landmark_list = []\n",
    "    cordinates_list = []\n",
    "    for id, landmark in enumerate(hand_landmarks):\n",
    "        x_cordinate = landmark.x\n",
    "        y_cordinate = landmark.y\n",
    "        z_cordinate = landmark.z\n",
    "        cx, cy = int(x_cordinate * width), int(y_cordinate * height)\n",
    "        if Debug_mode:\n",
    "          if id in FINGER_TIPS:\n",
    "              cv2.circle(annotated_image, (cx, cy), 15, (255,255,255), cv2.FILLED)\n",
    "\n",
    "        landmark_list.append(landmark_pb2.NormalizedLandmark(x=x_cordinate, y=y_cordinate, z=z_cordinate))\n",
    "        cordinates_list.append((cx, cy, id))\n",
    "    \n",
    "    ACTIVE_FINGER = get_active_finger(cordinates_list, ACTIVE_FINGER)\n",
    "    annotated_image = put_text_between_diagonal_points(annotated_image, cordinates_list[THUMB_FINGER], cordinates_list[ACTIVE_FINGER])\n",
    "\n",
    "    if Debug_mode:\n",
    "      # Draw the hand landmarks.\n",
    "      hand_landmarks_proto = landmark_pb2.NormalizedLandmarkList()\n",
    "      hand_landmarks_proto.landmark.extend(landmark_list)\n",
    "      solutions.drawing_utils.draw_landmarks(\n",
    "        annotated_image,\n",
    "        hand_landmarks_proto,\n",
    "        solutions.hands.HAND_CONNECTIONS,\n",
    "        landmark_drawing_spec=hand_mpDraw.DrawingSpec(color=(0, 0, 0), thickness=-1),\n",
    "        connection_drawing_spec=hand_mpDraw.DrawingSpec(color=(201, 194, 2))\n",
    "      )\n",
    "\n",
    "  return annotated_image"
   ]
  },
  {
   "cell_type": "code",
   "execution_count": null,
   "metadata": {},
   "outputs": [],
   "source": [
    "def detect_objects(frame):\n",
    "    image = mp.Image(image_format=mp.ImageFormat.SRGB, data=frame)\n",
    "    detection_result = detector.detect(image)\n",
    "    annotated_image = draw_landmarks_on_image(image.numpy_view(), detection_result)\n",
    "    return annotated_image\n"
   ]
  },
  {
   "cell_type": "code",
   "execution_count": null,
   "metadata": {},
   "outputs": [],
   "source": [
    "if Debug_mode:\n",
    "    mp_drawing = mp.solutions.drawing_utils\n",
    "    hand_mpDraw = mp.solutions.drawing_utils\n",
    "    mp_hands = mp.solutions.hands\n",
    "\n",
    "cap = cv2.VideoCapture(0)\n",
    "while True:\n",
    "    _,frame = cap.read()\n",
    "    frame = cv2.flip(frame, 1)\n",
    "    frame = cv2.cvtColor(frame, cv2.COLOR_BGR2RGB)\n",
    "    frame.flags.writeable = False\n",
    "    output_frame = detect_objects(frame)\n",
    "    cv2.imshow(\"Object detection\",output_frame)\n",
    "    if cv2.waitKey(1) & 0xFF == ord('q'):\n",
    "        break\n"
   ]
  },
  {
   "cell_type": "code",
   "execution_count": null,
   "metadata": {},
   "outputs": [],
   "source": []
  }
 ],
 "metadata": {
  "kernelspec": {
   "display_name": "base",
   "language": "python",
   "name": "python3"
  },
  "language_info": {
   "codemirror_mode": {
    "name": "ipython",
    "version": 3
   },
   "file_extension": ".py",
   "mimetype": "text/x-python",
   "name": "python",
   "nbconvert_exporter": "python",
   "pygments_lexer": "ipython3",
   "version": "3.10.10"
  },
  "orig_nbformat": 4
 },
 "nbformat": 4,
 "nbformat_minor": 2
}
